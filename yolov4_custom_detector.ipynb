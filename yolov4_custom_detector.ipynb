{
  "nbformat": 4,
  "nbformat_minor": 0,
  "metadata": {
    "colab": {
      "name": "yolov4_custom_detector.ipynb",
      "provenance": [],
      "collapsed_sections": []
    },
    "kernelspec": {
      "name": "python3",
      "display_name": "Python 3"
    }
  },
  "cells": [
    {
      "cell_type": "code",
      "metadata": {
        "id": "ct_I_gMRWawF",
        "colab_type": "code",
        "colab": {}
      },
      "source": [
        "# clone the darknet files\n",
        "!git clone https://github.com/AlexeyAB/darknet"
      ],
      "execution_count": null,
      "outputs": []
    },
    {
      "cell_type": "code",
      "metadata": {
        "id": "NbZ1kFJsWn4s",
        "colab_type": "code",
        "colab": {}
      },
      "source": [
        "# change few things from darknet file (to run with GPU)\n",
        "%cd darknet\n",
        "!sed -i 's/OPENCV=0/OPENCV=1/' Makefile # sed -i 's/<content>/<content to change>/g' <file name>\n",
        "!sed -i 's/GPU=0/GPU=1/' Makefile\n",
        "!sed -i 's/CUDNN=0/CUDNN=1/' Makefile\n",
        "!sed -i 's/CUDNN_HALF=0/CUDNN_HALF=1/' Makefile"
      ],
      "execution_count": null,
      "outputs": []
    },
    {
      "cell_type": "code",
      "metadata": {
        "id": "bfq2G5OLWp7I",
        "colab_type": "code",
        "colab": {}
      },
      "source": [
        "!make"
      ],
      "execution_count": null,
      "outputs": []
    },
    {
      "cell_type": "code",
      "metadata": {
        "id": "F_QlCehwWsSI",
        "colab_type": "code",
        "colab": {}
      },
      "source": [
        "# Mount google drive to google colaboratory\n",
        "%cd ..\n",
        "from google.colab import drive\n",
        "drive.mount('/content/gdrive')"
      ],
      "execution_count": null,
      "outputs": []
    },
    {
      "cell_type": "code",
      "metadata": {
        "id": "gMDU59ueZsW6",
        "colab_type": "code",
        "colab": {}
      },
      "source": [
        "# change directory name from  /content/gdrive/My\\ Drive/ to /mydrive\n",
        "!ln -s /content/gdrive/My\\ Drive/ /mydrive\n",
        "!ls /mydrive"
      ],
      "execution_count": null,
      "outputs": []
    },
    {
      "cell_type": "code",
      "metadata": {
        "id": "8oJc8axzWxou",
        "colab_type": "code",
        "colab": {}
      },
      "source": [
        "# copy obj and test zip files from google drive and then unzip in directoy(darknet/data)\n",
        "# depends on which directory you are, it might be changed\n",
        "# to check current directory -> %cd\n",
        "!cp mydrive/yolov4/obj.zip /content/darknet/data # Write correct directory\n",
        "!cp mydrive/yolov4/test.zip  /content/darknet/data\n",
        "!unzip obj.zip\n",
        "!unzip test.zip"
      ],
      "execution_count": null,
      "outputs": []
    },
    {
      "cell_type": "code",
      "metadata": {
        "id": "27CCtYwEXSPL",
        "colab_type": "code",
        "colab": {}
      },
      "source": [
        "# download the pre-trained weights and then move to darknet/cfg directory\n",
        "# or go to darknet/cfg directoy and then download pre-trained weights\n",
        "!wget https://github.com/AlexeyAB/darknet/releases/download/darknet_yolo_v3_optimal/yolov4.conv.137"
      ],
      "execution_count": null,
      "outputs": []
    },
    {
      "cell_type": "code",
      "metadata": {
        "id": "ysKdq8Y-YNVy",
        "colab_type": "code",
        "colab": {}
      },
      "source": [
        "# copy few needed files to darknet/cfg, darknet/data directories\n",
        "!cp mydrive/yolov4/yolov4-obj.cfg /content/darknet/cfg\n",
        "!cp mydrive/yolov4/obj.names /content/darknet/data\n",
        "!cp mydrive/yolov4/obj.data  /content/darknet/data\n",
        "!cp mydrive/yolov4/generate_train.py /content\n",
        "!cp mydrive/yolov4/generate_test.py /content"
      ],
      "execution_count": null,
      "outputs": []
    },
    {
      "cell_type": "code",
      "metadata": {
        "id": "3KmabXY-YjtC",
        "colab_type": "code",
        "colab": {}
      },
      "source": [
        "# train the data\n",
        "!./darknet detector train data/obj.data cfg/yolov4-obj.cfg yolov4.conv.137 -dont_show -map"
      ],
      "execution_count": null,
      "outputs": []
    },
    {
      "cell_type": "code",
      "metadata": {
        "id": "utql-y1zaWFI",
        "colab_type": "code",
        "colab": {}
      },
      "source": [
        "# show dected image\n",
        "imShow('chart.png')"
      ],
      "execution_count": null,
      "outputs": []
    },
    {
      "cell_type": "code",
      "metadata": {
        "id": "nBCSvK1MabXp",
        "colab_type": "code",
        "colab": {}
      },
      "source": [
        "# start training from where it stopped (It's saved every 100/1000 iterations)\n",
        "!./darknet detector train data/obj.data cfg/yolov4-obj.cfg /mydrive/yolov4/backup/yolov4-obj_last.weights -dont_show"
      ],
      "execution_count": null,
      "outputs": []
    },
    {
      "cell_type": "code",
      "metadata": {
        "id": "781b69SxaeGn",
        "colab_type": "code",
        "colab": {}
      },
      "source": [
        "# change to test mode\n",
        "%cd cfg\n",
        "!sed -i 's/batch=64/batch=1/' yolov4-obj.cfg\n",
        "!sed -i 's/subdivisions=16/subdivisions=1/' yolov4-obj.cfg\n",
        "%cd .."
      ],
      "execution_count": null,
      "outputs": []
    },
    {
      "cell_type": "code",
      "metadata": {
        "id": "4xv_50uTaftn",
        "colab_type": "code",
        "colab": {}
      },
      "source": [
        "!./darknet detector test data/obj.data cfg/yolov4-obj.cfg /mydrive/yolov4/backup/yolov4-obj_last.weights /mydrive/images/image.jpg -thresh 0.3\n",
        "imShow('file.jpg') # image"
      ],
      "execution_count": null,
      "outputs": []
    }
  ]
}